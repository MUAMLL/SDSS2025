{
 "cells": [
  {
   "cell_type": "markdown",
   "id": "54f603e7-2fe8-4aec-ba0c-5136c4559cee",
   "metadata": {},
   "source": [
    "# Geospatial Data Visualization "
   ]
  },
  {
   "cell_type": "code",
   "execution_count": null,
   "id": "8b3da8bf-9700-4220-a228-eaff78b60f3e",
   "metadata": {},
   "outputs": [],
   "source": [
    "import geoplot as gplt \n",
    "import geopandas as gpd \n",
    "from matplotlib import pyplot as plt\n",
    "import pandas as pd\n",
    "import numpy as np\n",
    "import mapclassify as mc\n",
    "import geoplot.crs as gcrs"
   ]
  },
  {
   "cell_type": "markdown",
   "id": "24c7d3f4-7ed4-4a07-97ff-be8553d6da89",
   "metadata": {},
   "source": [
    "## Showing Population Totals in U.S. Cities\n",
    "\n",
    "Let's build on our basic U.S. Cities Plot:"
   ]
  },
  {
   "cell_type": "code",
   "execution_count": null,
   "id": "09b649a9-c27a-4a9e-a367-c2b2d8cb098e",
   "metadata": {},
   "outputs": [],
   "source": [
    "continental_usa_cities = gpd.read_file(gplt.datasets.get_path('usa_cities'))\n",
    "continental_usa_cities = continental_usa_cities.query('STATE not in [\"AK\", \"HI\", \"PR\"]')\n",
    "contiguous_usa = gpd.read_file(gplt.datasets.get_path('contiguous_usa'))\n",
    "\n",
    "contiguous_usa.head()"
   ]
  },
  {
   "cell_type": "markdown",
   "id": "ec13d3e9-61fb-493c-936d-17a03cd2b4d8",
   "metadata": {},
   "source": [
    "Let's build our first basic plot:"
   ]
  },
  {
   "cell_type": "code",
   "execution_count": null,
   "id": "bfe19a25-1847-44bb-9879-c94737eabb29",
   "metadata": {},
   "outputs": [],
   "source": [
    "ax = gplt.polyplot(\n",
    "    contiguous_usa,\n",
    "    figsize=(12, 7)\n",
    ")\n",
    "\n",
    "\n",
    "gplt.pointplot(\n",
    "    continental_usa_cities,\n",
    "    scale='POP_2010',\n",
    "    ax=ax\n",
    ")\n",
    "\n",
    "plt.title(\"Large cities in the contiguous United States, 2010\")"
   ]
  },
  {
   "cell_type": "markdown",
   "id": "c79b1d32-bb2f-4787-a54d-fbf72e677346",
   "metadata": {},
   "source": [
    "Now, let's add some changes to color and lessen the warping:"
   ]
  },
  {
   "cell_type": "code",
   "execution_count": null,
   "id": "7bd3a3ed-0cbb-4f30-9508-dba5513cc00d",
   "metadata": {},
   "outputs": [],
   "source": [
    "\n",
    "\n",
    "\n",
    "ax = gplt.polyplot(\n",
    "    contiguous_usa,\n",
    "    linewidth=1,\n",
    "    projection=gcrs.AlbersEqualArea(),\n",
    "    edgecolor='white',\n",
    "    facecolor='lightgray',\n",
    "    figsize=(12, 7)\n",
    ")\n",
    "\n",
    "\n",
    "gplt.pointplot(\n",
    "    continental_usa_cities,\n",
    "    scale='POP_2010',\n",
    "    ax=ax\n",
    ")\n",
    "\n",
    "plt.title(\"Large cities in the contiguous United States, 2010\")"
   ]
  },
  {
   "cell_type": "markdown",
   "id": "84917fd1-a083-47b4-b792-1f82cb94c666",
   "metadata": {},
   "source": [
    "### Adding Scheme, Hue, and Scale\n",
    "\n",
    "Let's add some additional information content. Let's create a binning scheme:"
   ]
  },
  {
   "cell_type": "code",
   "execution_count": null,
   "id": "3df2fbd4-892d-4a64-92c1-2f779e3de09e",
   "metadata": {},
   "outputs": [],
   "source": [
    "scheme = mc.Quantiles(continental_usa_cities['POP_2010'], k=5)\n",
    "scheme"
   ]
  },
  {
   "cell_type": "markdown",
   "id": "78d2b192-4af0-4680-afde-65600df258dd",
   "metadata": {},
   "source": [
    "Now, let's use our scheme, along with hue and scale to show population density:"
   ]
  },
  {
   "cell_type": "code",
   "execution_count": null,
   "id": "869ee7c7-55a8-4c7d-ab66-d62716a5ee08",
   "metadata": {},
   "outputs": [],
   "source": [
    "\n",
    "\n",
    "\n",
    "ax = gplt.polyplot(\n",
    "    contiguous_usa,\n",
    "    linewidth=1,\n",
    "    projection=gcrs.AlbersEqualArea(),\n",
    "    edgecolor='white',\n",
    "    facecolor='lightgray',\n",
    "    figsize=(12, 7)\n",
    ")\n",
    "\n",
    "\n",
    "gplt.pointplot(\n",
    "    continental_usa_cities,\n",
    "    scale='POP_2010', # scale by Population\n",
    "    limits=(2, 30), # allow sizes up to 30\n",
    "    hue='POP_2010', # color by Population\n",
    "    cmap='Blues', # use a Blue cmap - more blue = more population\n",
    "    scheme=scheme,  # bin the populations into 1 of 5 colors based on the scheme\n",
    "    ax=ax\n",
    ")\n",
    "\n",
    "plt.title(\"Large cities in the contiguous United States, 2010\")"
   ]
  },
  {
   "cell_type": "markdown",
   "id": "fe7650df-2027-4752-9da0-9673573a8672",
   "metadata": {},
   "source": [
    "And finally, let's add and style the legend:"
   ]
  },
  {
   "cell_type": "code",
   "execution_count": null,
   "id": "217e11bc-70fc-4ce0-8a36-54ba7918cd64",
   "metadata": {},
   "outputs": [],
   "source": [
    "\n",
    "\n",
    "\n",
    "ax = gplt.polyplot(\n",
    "    contiguous_usa,\n",
    "    linewidth=1,\n",
    "    projection=gcrs.AlbersEqualArea(),\n",
    "    edgecolor='white',\n",
    "    facecolor='lightgray',\n",
    "    figsize=(12, 7)\n",
    ")\n",
    "\n",
    "\n",
    "gplt.pointplot(\n",
    "    continental_usa_cities,\n",
    "    scale='POP_2010',\n",
    "    limits=(2, 30),\n",
    "    hue='POP_2010',\n",
    "    cmap='Blues',\n",
    "    scheme=scheme,\n",
    "    legend=True,\n",
    "    legend_var='scale',\n",
    "    legend_values=[8000000, 2000000, 1000000, 100000],\n",
    "    legend_labels=['8 million', '2 million', '1 million', '100 thousand'],\n",
    "    legend_kwargs={'frameon': False, 'loc': 'lower right'},\n",
    "    ax=ax\n",
    ")\n",
    "\n",
    "plt.title(\"Large cities in the contiguous United States, 2010\")"
   ]
  }
 ],
 "metadata": {
  "kernelspec": {
   "display_name": "Python 3 (ipykernel)",
   "language": "python",
   "name": "python3"
  },
  "language_info": {
   "codemirror_mode": {
    "name": "ipython",
    "version": 3
   },
   "file_extension": ".py",
   "mimetype": "text/x-python",
   "name": "python",
   "nbconvert_exporter": "python",
   "pygments_lexer": "ipython3",
   "version": "3.12.10"
  }
 },
 "nbformat": 4,
 "nbformat_minor": 5
}
