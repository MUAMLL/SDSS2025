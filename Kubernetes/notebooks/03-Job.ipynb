{
 "cells": [
  {
   "cell_type": "markdown",
   "id": "4c836078-7ad1-477b-a059-4a562e771611",
   "metadata": {},
   "source": [
    "# Nautilus Job Creation\n",
    "This notebook will help you create a K8s Job on the Nautilus cluster"
   ]
  },
  {
   "cell_type": "markdown",
   "id": "1f08cb04-728b-4b6f-86c7-e5413407d9e7",
   "metadata": {},
   "source": [
    "## Step 0: Prerequisites\n",
    "* You have been added to a Nautilus namespace\n",
    "* You have cloned down the SDSS2025 repository"
   ]
  },
  {
   "cell_type": "markdown",
   "id": "513d647b-8b17-43e9-9771-0a202b259207",
   "metadata": {},
   "source": [
    "## Step 1: Load the Template YAML File\n",
    "\n",
    "We will be using a template of a Pod creation YAML to make this process easy:\n",
    "\n",
    "```yaml\n",
    "apiVersion: batch/v1\n",
    "\n",
    "kind: Job\n",
    "\n",
    "metadata:\n",
    "  name: {{job_name}}\n",
    "\n",
    "spec:\n",
    "  ttlSecondsAfterFinished: 86400 # a day\n",
    "  template:\n",
    "    spec:\n",
    "      automountServiceAccountToken: false\n",
    "      affinity:\n",
    "        nodeAffinity:\n",
    "          requiredDuringSchedulingIgnoredDuringExecution:\n",
    "            nodeSelectorTerms:\n",
    "            - matchExpressions:\n",
    "              - key: topology.kubernetes.io/region\n",
    "                operator: In\n",
    "                values:\n",
    "                - us-central \n",
    "      containers:\n",
    "        - name: pi\n",
    "          image: perl:5.34\n",
    "          command: [\"perl\", \"-Mbignum=bpi\", \"-wle\", \"print bpi(2000)\"]\n",
    "          resources:\n",
    "            limits:\n",
    "              memory: 12Gi\n",
    "              cpu: 2\n",
    "            requests:\n",
    "              memory: 10Gi\n",
    "              cpu: 2\n",
    "      restartPolicy: Never\n",
    "  backoffLimit: 4\n",
    "\n",
    "```\n",
    "\n",
    "We are creating a Job in the central u.s. region.\n",
    "\n",
    "Let's load our template using a template engine called `jinja2`:"
   ]
  },
  {
   "cell_type": "code",
   "execution_count": null,
   "id": "b1e0871e-192c-4d82-bfaf-0218d5b22564",
   "metadata": {},
   "outputs": [],
   "source": [
    "from jinja2 import Template\n",
    "\n",
    "# read in the template\n",
    "with open('../yaml/job_template.yml') as file_:\n",
    "    template = Template(file_.read())"
   ]
  },
  {
   "cell_type": "markdown",
   "id": "40835a10-d9e7-4423-ba95-e5908e182e80",
   "metadata": {},
   "source": [
    "## Step 2: Render and Save the YAML File\n",
    "\n",
    "Now, we can replace the name of the job we are going to create, and save the YAML File. \n",
    "\n",
    "Be sure to use something like your initials in the name of the job. Every namespace can only have a single job with a given name."
   ]
  },
  {
   "cell_type": "code",
   "execution_count": null,
   "id": "c57ba981-54e3-44cd-819a-1059b0552ab7",
   "metadata": {},
   "outputs": [],
   "source": [
    "# replace None \n",
    "JOB_NAME = input(\"Enter Job Name: \")\n",
    "\n",
    "job_spec = template.render(job_name=JOB_NAME)"
   ]
  },
  {
   "cell_type": "markdown",
   "id": "b2f935a1-5647-4064-8339-7697eb13bca2",
   "metadata": {},
   "source": [
    "Let's view our rendered YAML:"
   ]
  },
  {
   "cell_type": "code",
   "execution_count": null,
   "id": "79b973b3-c9bd-4d8e-9141-5d9f89e975d1",
   "metadata": {},
   "outputs": [],
   "source": [
    "print(job_spec)"
   ]
  },
  {
   "cell_type": "markdown",
   "id": "f4ff9ded-aa83-496c-830c-990082595603",
   "metadata": {},
   "source": [
    "Finally, let's save the YAML to disk:"
   ]
  },
  {
   "cell_type": "code",
   "execution_count": null,
   "id": "59722e2c-01d3-487e-bbf0-eb92830aa314",
   "metadata": {},
   "outputs": [],
   "source": [
    "with open(\"./job.yml\", \"w\") as file:\n",
    "    file.write(pod_spec)"
   ]
  },
  {
   "cell_type": "markdown",
   "id": "f7927537-2643-42b4-a828-23412623e31a",
   "metadata": {},
   "source": [
    "## Step 3: Create the Job\n",
    "\n",
    "Now, we need to invoke KubeCTL with our saved YAML file to create the Job:"
   ]
  },
  {
   "cell_type": "code",
   "execution_count": 1,
   "id": "aa86923d-acb8-4c37-9ef6-39cb9b227bba",
   "metadata": {},
   "outputs": [
    {
     "name": "stdout",
     "output_type": "stream",
     "text": [
      "error: the path \"./job.yml\" does not exist\n"
     ]
    }
   ],
   "source": [
    "! kubectl create -f ./job.yml"
   ]
  },
  {
   "cell_type": "markdown",
   "id": "82b57934-cabd-4126-a608-dc7a76e63430",
   "metadata": {},
   "source": [
    "## Step 4: Verify Job & Pod Creation\n",
    "\n",
    "\n",
    "Let's view all of the jobs in our namespace and ensure we find ours:"
   ]
  },
  {
   "cell_type": "code",
   "execution_count": null,
   "id": "571a650e-1101-4e77-b179-a43301abbaa7",
   "metadata": {},
   "outputs": [],
   "source": [
    "! kubectl get jobs"
   ]
  },
  {
   "cell_type": "markdown",
   "id": "1ef8878e-2015-485b-9de8-8bb0003218c1",
   "metadata": {},
   "source": [
    "Additionally, recall that jobs are nothing more than managed pods. Let's verify our Pod is running:"
   ]
  },
  {
   "cell_type": "code",
   "execution_count": null,
   "id": "19f6cf75-e47f-48d0-9f8d-32e6fc30e15f",
   "metadata": {},
   "outputs": [],
   "source": [
    "! kubectl get pods"
   ]
  },
  {
   "cell_type": "markdown",
   "id": "cf9ffa49-4272-439f-85e2-feb317bc7cee",
   "metadata": {},
   "source": [
    "## Step 5: Job Running and Output \n",
    "\n",
    "We now wait for the job to finish. Once it has we can look at the output of our pod:"
   ]
  },
  {
   "cell_type": "code",
   "execution_count": null,
   "id": "b297bd04-83b7-4075-91a3-812ceeb4c372",
   "metadata": {},
   "outputs": [],
   "source": [
    "! kubectl logs PODNAME"
   ]
  },
  {
   "cell_type": "markdown",
   "id": "276ce13b-06ef-4988-bbe4-12d782725e31",
   "metadata": {},
   "source": [
    "## Step 6: Deleting the Job"
   ]
  },
  {
   "cell_type": "markdown",
   "id": "66a2017c-d5ec-4612-a4e3-016319dbd6be",
   "metadata": {},
   "source": [
    "Once we've finished using the job, let's remove it:"
   ]
  },
  {
   "cell_type": "code",
   "execution_count": null,
   "id": "8a77776f-e5e9-4356-a28b-c877c42403fa",
   "metadata": {},
   "outputs": [],
   "source": [
    "! kubectl delete job JOBNAME"
   ]
  }
 ],
 "metadata": {
  "kernelspec": {
   "display_name": "Python 3 (ipykernel)",
   "language": "python",
   "name": "python3"
  },
  "language_info": {
   "codemirror_mode": {
    "name": "ipython",
    "version": 3
   },
   "file_extension": ".py",
   "mimetype": "text/x-python",
   "name": "python",
   "nbconvert_exporter": "python",
   "pygments_lexer": "ipython3",
   "version": "3.11.5"
  }
 },
 "nbformat": 4,
 "nbformat_minor": 5
}
