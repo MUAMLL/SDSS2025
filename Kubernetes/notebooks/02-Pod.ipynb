{
 "cells": [
  {
   "cell_type": "markdown",
   "id": "4c836078-7ad1-477b-a059-4a562e771611",
   "metadata": {},
   "source": [
    "# Nautilus Pod Creation\n",
    "This notebook will help you create a Pod on the Nautilus cluster"
   ]
  },
  {
   "cell_type": "markdown",
   "id": "1f08cb04-728b-4b6f-86c7-e5413407d9e7",
   "metadata": {},
   "source": [
    "## Step 0: Prerequisites\n",
    "* You have been added to a Nautilus namespace\n",
    "* You have cloned down the SDSS2025 repository"
   ]
  },
  {
   "cell_type": "markdown",
   "id": "513d647b-8b17-43e9-9771-0a202b259207",
   "metadata": {},
   "source": [
    "## Step 1: Load the Template YAML File\n",
    "\n",
    "We will be using a template of a Pod creation YAML to make this process easy:\n",
    "\n",
    "```yaml\n",
    "apiVersion: v1\n",
    "kind: Pod\n",
    "metadata:\n",
    "  name: {{pod_name}}\n",
    "spec:\n",
    "  automountServiceAccountToken: false\n",
    "  affinity:\n",
    "    nodeAffinity:\n",
    "      requiredDuringSchedulingIgnoredDuringExecution:\n",
    "        nodeSelectorTerms:\n",
    "        - matchExpressions:\n",
    "          - key: topology.kubernetes.io/region\n",
    "            operator: In\n",
    "            values:\n",
    "            - us-central \n",
    "  containers:\n",
    "    - name: {{pod_name}}\n",
    "      image: ubuntu:20.04\n",
    "      command: [\"sh\", \"-c\", \"echo 'Im a new pod' && sleep infinity\"]\n",
    "      resources:\n",
    "        limits:\n",
    "          memory: 12Gi\n",
    "          cpu: 2\n",
    "        requests:\n",
    "          memory: 10Gi\n",
    "          cpu: 2\n",
    "```\n",
    "\n",
    "We are creating a pod in the central u.s. region.\n",
    "\n",
    "Let's load our template using a template engine called `jinja2`:"
   ]
  },
  {
   "cell_type": "code",
   "execution_count": null,
   "id": "b1e0871e-192c-4d82-bfaf-0218d5b22564",
   "metadata": {},
   "outputs": [],
   "source": [
    "from jinja2 import Template\n",
    "\n",
    "# read in the template\n",
    "with open('../yaml/pod_template.yml') as file_:\n",
    "    template = Template(file_.read())"
   ]
  },
  {
   "cell_type": "markdown",
   "id": "40835a10-d9e7-4423-ba95-e5908e182e80",
   "metadata": {},
   "source": [
    "## Step 2: Render and Save the YAML File\n",
    "\n",
    "Now, we can replace the name of the pod we are going to create, and save the YAML File. \n",
    "\n",
    "Be sure to use something like your initials in the name of the pod. Every namespace can only have a single pod with a given name."
   ]
  },
  {
   "cell_type": "code",
   "execution_count": null,
   "id": "c57ba981-54e3-44cd-819a-1059b0552ab7",
   "metadata": {},
   "outputs": [],
   "source": [
    "# replace None \n",
    "POD_NAME = input(\"Enter Pod Name: \")\n",
    "\n",
    "pod_spec = template.render(pod_name=POD_NAME)"
   ]
  },
  {
   "cell_type": "markdown",
   "id": "b2f935a1-5647-4064-8339-7697eb13bca2",
   "metadata": {},
   "source": [
    "Let's view our rendered YAML:"
   ]
  },
  {
   "cell_type": "code",
   "execution_count": null,
   "id": "79b973b3-c9bd-4d8e-9141-5d9f89e975d1",
   "metadata": {},
   "outputs": [],
   "source": [
    "print(pod_spec)"
   ]
  },
  {
   "cell_type": "markdown",
   "id": "f4ff9ded-aa83-496c-830c-990082595603",
   "metadata": {},
   "source": [
    "Finally, let's save the YAML to disk:"
   ]
  },
  {
   "cell_type": "code",
   "execution_count": null,
   "id": "59722e2c-01d3-487e-bbf0-eb92830aa314",
   "metadata": {},
   "outputs": [],
   "source": [
    "with open(\"./pod.yml\", \"w\") as file:\n",
    "    file.write(pod_spec)"
   ]
  },
  {
   "cell_type": "markdown",
   "id": "f7927537-2643-42b4-a828-23412623e31a",
   "metadata": {},
   "source": [
    "## Step 3: Create the Pod\n",
    "\n",
    "Now, we need to invoke KubeCTL with our saved YAML file to create the Pod:"
   ]
  },
  {
   "cell_type": "code",
   "execution_count": null,
   "id": "aa86923d-acb8-4c37-9ef6-39cb9b227bba",
   "metadata": {},
   "outputs": [],
   "source": [
    "! kubectl create -f ./pod.yml"
   ]
  },
  {
   "cell_type": "markdown",
   "id": "82b57934-cabd-4126-a608-dc7a76e63430",
   "metadata": {},
   "source": [
    "## Step 4: Verify Pod Creation\n",
    "\n",
    "The output of Step 3 should have been something such as:\n",
    "```\n",
    "pod/PODNMAE created\n",
    "```\n",
    "\n",
    "Let's view all of the pods in our namespace and ensure we find ours:"
   ]
  },
  {
   "cell_type": "code",
   "execution_count": null,
   "id": "571a650e-1101-4e77-b179-a43301abbaa7",
   "metadata": {},
   "outputs": [],
   "source": [
    "! kubectl get pods"
   ]
  },
  {
   "cell_type": "markdown",
   "id": "92b7a584-f0eb-4154-b2ab-cb4795785d30",
   "metadata": {},
   "source": [
    "We can also get more information using the `describe` action:"
   ]
  },
  {
   "cell_type": "code",
   "execution_count": null,
   "id": "a6875428-9103-4375-916f-a0d7840b7b42",
   "metadata": {},
   "outputs": [],
   "source": [
    "! kubetl describe pod PODNAME"
   ]
  },
  {
   "cell_type": "markdown",
   "id": "698ab839-f8d8-4478-a313-8a46ff3f0f3f",
   "metadata": {},
   "source": [
    "## Step 5: Using the Pod\n"
   ]
  },
  {
   "cell_type": "markdown",
   "id": "a04d3d03-7efd-4a95-b0a7-9f1ce48c0f67",
   "metadata": {},
   "source": [
    "We can now use the pod using the `exec` command. Let's run a simple \"hello world\" echo:"
   ]
  },
  {
   "cell_type": "code",
   "execution_count": null,
   "id": "2a43baca-0d5d-4ff5-9352-af709a74f3ea",
   "metadata": {},
   "outputs": [],
   "source": [
    "! kubectl exec -it PODNAME -- echo 'hello world'"
   ]
  },
  {
   "cell_type": "markdown",
   "id": "276ce13b-06ef-4988-bbe4-12d782725e31",
   "metadata": {},
   "source": [
    "## Step 6: Deleting the Pod"
   ]
  },
  {
   "cell_type": "markdown",
   "id": "66a2017c-d5ec-4612-a4e3-016319dbd6be",
   "metadata": {},
   "source": [
    "Once we've finished using the pod, let's remove it:"
   ]
  },
  {
   "cell_type": "code",
   "execution_count": null,
   "id": "8a77776f-e5e9-4356-a28b-c877c42403fa",
   "metadata": {},
   "outputs": [],
   "source": [
    "! kubectl delete pod PODNAME"
   ]
  }
 ],
 "metadata": {
  "kernelspec": {
   "display_name": "Python 3 (ipykernel)",
   "language": "python",
   "name": "python3"
  },
  "language_info": {
   "codemirror_mode": {
    "name": "ipython",
    "version": 3
   },
   "file_extension": ".py",
   "mimetype": "text/x-python",
   "name": "python",
   "nbconvert_exporter": "python",
   "pygments_lexer": "ipython3",
   "version": "3.11.5"
  }
 },
 "nbformat": 4,
 "nbformat_minor": 5
}
