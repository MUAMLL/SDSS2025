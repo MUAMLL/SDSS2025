{
 "cells": [
  {
   "cell_type": "markdown",
   "id": "6b5d3eac-6c77-4599-ab2b-2755f4707387",
   "metadata": {},
   "source": [
    "# Running Custom Jupyter in K8s\n",
    "\n",
    "This notebook will walk through using Kubernetes with Jupyter"
   ]
  },
  {
   "cell_type": "markdown",
   "id": "fb211dfb-5a2e-42b5-9fa0-0621086e6054",
   "metadata": {},
   "source": [
    "## Step 0: Prerequisites\n",
    "\n",
    "1. You must have an NRP account\n",
    "2. You must have been added to a Nautilus namespace\n",
    "3. You must have your NRP config in the `~/.kube` directory. \n",
    "\n"
   ]
  },
  {
   "cell_type": "markdown",
   "id": "da3b514e-74cc-4544-9ab7-3e20e6cd55ef",
   "metadata": {},
   "source": [
    "## Step 1: Building the Container\n",
    "\n",
    "The first step is to build a container with whatever custom software you need:\n"
   ]
  },
  {
   "cell_type": "markdown",
   "id": "eb511cba-fc7c-4d0d-8748-c7df9758a734",
   "metadata": {
    "tags": []
   },
   "source": [
    "\n",
    "### Dockerfile\n",
    "```dockerfile\n",
    "FROM quay.io/jupyter/scipy-notebook:latest\n",
    "\n",
    "RUN pip install geopandas shapely geoplot\n",
    "```\n",
    "\n",
    "### Building the Container Image\n",
    "\n",
    "```bash\n",
    "docker build -f ./docker/Jupyter.Dockerfile -t mynamespace/geo-jupyter:latest ./docker\n",
    "```\n",
    "\n",
    "\n",
    "### Pushing to Registry\n",
    "```bash\n",
    "docker push mynamespace/geo-jupyter:latest\n",
    "```\n",
    "\n",
    "\n",
    "All of these steps have been done for us and there is a container available at:\n",
    "```\n",
    "jalexhurt/geo-jupyter:latest\n",
    "```\n",
    "\n"
   ]
  },
  {
   "cell_type": "markdown",
   "id": "290c61a9-e38e-486b-8db7-e95a4cbdf578",
   "metadata": {},
   "source": [
    "## Step 2: Building the Pod Specification YAML\n",
    "\n",
    "We now have everything we need to run our Jupyter Pod. Let's create our YAML File:\n",
    "\n",
    "```yaml\n",
    "apiVersion: v1\n",
    "kind: Pod\n",
    "metadata:\n",
    "  name: {{pod_name}}\n",
    "spec:\n",
    "  automountServiceAccountToken: false\n",
    "  affinity:\n",
    "    nodeAffinity:\n",
    "      requiredDuringSchedulingIgnoredDuringExecution:\n",
    "        nodeSelectorTerms:\n",
    "        - matchExpressions:\n",
    "          - key: topology.kubernetes.io/region\n",
    "            operator: In\n",
    "            values:\n",
    "            - us-central \n",
    "  containers:\n",
    "    - name: {{pod_name}}\n",
    "      image: jalexhurt/geo-jupyter:latest\n",
    "      env:\n",
    "          - name: NOTEBOOK_ARGS\n",
    "            value: \"--ip 0.0.0.0 --port 8888 --allow-root\"\n",
    "      resources:\n",
    "        limits:\n",
    "          memory: 12Gi\n",
    "          cpu: 2\n",
    "        requests:\n",
    "          memory: 10Gi\n",
    "          cpu: 2\n",
    "\n",
    "```\n",
    "\n",
    "Let's use `jinja2` to fill in the missing values in our Template:"
   ]
  },
  {
   "cell_type": "code",
   "execution_count": null,
   "id": "99f4a318-9fcc-49ad-953d-2f0751f24b1b",
   "metadata": {},
   "outputs": [],
   "source": [
    "from jinja2 import Template\n",
    "\n",
    "# read in the template\n",
    "with open('../yaml/jupyter_pod_template.yml') as file_:\n",
    "    template = Template(file_.read())"
   ]
  },
  {
   "cell_type": "markdown",
   "id": "e9da86bf-5a17-47bb-ad44-5f24cf740585",
   "metadata": {},
   "source": [
    "Replace the arguments to the `render` function with the appropriate values:"
   ]
  },
  {
   "cell_type": "code",
   "execution_count": null,
   "id": "186a90a4-12a0-4ba9-8a49-2ce73ca48ebc",
   "metadata": {},
   "outputs": [],
   "source": [
    "pod_spec = template.render(\n",
    "    pod_name=input(\"Pod Name: \")\n",
    ")\n",
    "\n",
    "print(pod_spec)"
   ]
  },
  {
   "cell_type": "markdown",
   "id": "742f07d6-f176-46cc-b0ca-d376a60e7db3",
   "metadata": {},
   "source": [
    "Now, let's save it to disk:"
   ]
  },
  {
   "cell_type": "code",
   "execution_count": null,
   "id": "7ba13a65-082a-4ba2-ac59-415a740dadca",
   "metadata": {},
   "outputs": [],
   "source": [
    "with open(\"./jupyter_pod.yml\", \"w\") as file:\n",
    "    file.write(pod_spec)"
   ]
  },
  {
   "cell_type": "markdown",
   "id": "5583e883-071d-4082-9776-98960befa5ff",
   "metadata": {},
   "source": [
    "## Step 3: Start the Pod\n",
    "\n",
    "Run the cell below to start the pod:"
   ]
  },
  {
   "cell_type": "code",
   "execution_count": null,
   "id": "94b963bb-5e36-46c8-bee7-0e94079dda39",
   "metadata": {},
   "outputs": [],
   "source": [
    "! kubectl create -f ./jupyter_pod.yml"
   ]
  },
  {
   "cell_type": "markdown",
   "id": "e132c3fa-0d5e-47a6-9605-8533fa3b6fe1",
   "metadata": {},
   "source": [
    "Run the cell below until your job moves to the `Complete` status. It will go through the stages of: `Pending`, `ContainerCreating`, and `Running`:"
   ]
  },
  {
   "cell_type": "code",
   "execution_count": null,
   "id": "be7d8fd6-5e26-4688-9a6c-81cd457cbb4c",
   "metadata": {},
   "outputs": [],
   "source": [
    "! kubectl get pods"
   ]
  },
  {
   "cell_type": "markdown",
   "id": "5e2e87a5-300c-4f55-ae28-580e655ad7e1",
   "metadata": {},
   "source": [
    "## Step 4: Port Forwarding\n",
    "\n",
    "From a local machine with KubeCTL installed, we would now run:\n",
    "```\n",
    "kubectl port-forward PODNAME 8888:8888\n",
    "```\n",
    "\n",
    "And then we could access the Jupyter environment from our local web browser by using the URL in the logs of the Pod:\n"
   ]
  },
  {
   "cell_type": "code",
   "execution_count": null,
   "id": "3d8bc408-5343-4e8e-8e4e-2f38396d631f",
   "metadata": {},
   "outputs": [],
   "source": [
    "! kubectl logs PODNAME | grep 127.0.0.1"
   ]
  },
  {
   "cell_type": "markdown",
   "id": "3e7e4cb6-a02a-4b83-b0e3-4869cdbbffe1",
   "metadata": {},
   "source": [
    "## Step 5: Delete the Job and the Pod\n",
    "\n",
    "The final step is to delete the job we ran the pod we spawned. Please change `JOBNAME` and `PODNAME` below to the appropriate name:"
   ]
  },
  {
   "cell_type": "code",
   "execution_count": null,
   "id": "216c6581-c076-477d-8e57-7421cb8c29b3",
   "metadata": {},
   "outputs": [],
   "source": [
    "! kubectl delete pod PODNAME"
   ]
  }
 ],
 "metadata": {
  "kernelspec": {
   "display_name": "Python 3 (ipykernel)",
   "language": "python",
   "name": "python3"
  },
  "language_info": {
   "codemirror_mode": {
    "name": "ipython",
    "version": 3
   },
   "file_extension": ".py",
   "mimetype": "text/x-python",
   "name": "python",
   "nbconvert_exporter": "python",
   "pygments_lexer": "ipython3",
   "version": "3.11.5"
  }
 },
 "nbformat": 4,
 "nbformat_minor": 5
}
